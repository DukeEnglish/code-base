{
 "cells": [
  {
   "cell_type": "code",
   "execution_count": 2,
   "metadata": {},
   "outputs": [],
   "source": [
    "# 判断是否是中文英文或者数字\n",
    "def is_chinese(uchar):\n",
    "    if uchar >= '\\u4e00' and uchar <= '\\u9fa5':\n",
    "        return True\n",
    "    else:\n",
    "        return False\n",
    "\n",
    "def is_alphabet(uchar):\n",
    "    if (uchar >= '\\u0041' and uchar <= '\\u005a') or \\\n",
    "            (uchar >= '\\u0061' and uchar <= '\\u007a'):\n",
    "        return True\n",
    "    else:\n",
    "        return False\n",
    "\n",
    "def is_number(uchar):\n",
    "    if uchar >= '\\u0030' and uchar <= '\\u0039':\n",
    "        return True\n",
    "    else:\n",
    "        return False"
   ]
  },
  {
   "cell_type": "code",
   "execution_count": 4,
   "metadata": {},
   "outputs": [
    {
     "name": "stdout",
     "output_type": "stream",
     "text": [
      "1\n"
     ]
    }
   ],
   "source": [
    "if is_chinese('中文'):\n",
    "    print(1)\n",
    "if is_alphabet('中文'):\n",
    "    print(2)\n",
    "if is_number('中文'):\n",
    "    print(3)"
   ]
  },
  {
   "cell_type": "code",
   "execution_count": 5,
   "metadata": {},
   "outputs": [
    {
     "name": "stdout",
     "output_type": "stream",
     "text": [
      "2\n"
     ]
    }
   ],
   "source": [
    "if is_chinese('alphabet'):\n",
    "    print(1)\n",
    "if is_alphabet('alphabet'):\n",
    "    print(2)\n",
    "if is_number('alphabet'):\n",
    "    print(3)"
   ]
  },
  {
   "cell_type": "code",
   "execution_count": 6,
   "metadata": {},
   "outputs": [
    {
     "name": "stdout",
     "output_type": "stream",
     "text": [
      "3\n"
     ]
    }
   ],
   "source": [
    "if is_chinese('1'):\n",
    "    print(1)\n",
    "if is_alphabet('1'):\n",
    "    print(2)\n",
    "if is_number('1'):\n",
    "    print(3)"
   ]
  },
  {
   "cell_type": "code",
   "execution_count": 21,
   "metadata": {},
   "outputs": [
    {
     "name": "stdout",
     "output_type": "stream",
     "text": [
      "<_sre.SRE_Match object; span=(16, 27), match='hello world'>\n"
     ]
    }
   ],
   "source": [
    "# 正则表达式\n",
    "import re\n",
    "\n",
    "key = r\"<html><body><h1>hello world<h1></body></html>\"#这段是我们要抽离的文本\n",
    "p1 = r\"(?<=<h1>).+?(?=<h1>)\"#这是我们写的正则表达式规则，意思是成对的html语言之间的内容 \n",
    "pattern1 = re.compile(p1)#我们在编译这段正则表达式，我们写的规则compile成一个pattern\n",
    "matcher1 = re.search(pattern1,key)#在源文本中搜索符合正则表达式的部分\n",
    "print (matcher1.group(0))#打印出来"
   ]
  },
  {
   "cell_type": "code",
   "execution_count": 22,
   "metadata": {},
   "outputs": [
    {
     "name": "stdout",
     "output_type": "stream",
     "text": [
      "python\n"
     ]
    }
   ],
   "source": [
    "import re\n",
    "\n",
    "key = r\"javapythonhtmlvhdl\"#这是源文本\n",
    "p1 = r\"python\"#这是我们写的正则表达式\n",
    "pattern1 = re.compile(p1)#同样是编译\n",
    "matcher1 = re.search(pattern1,key)#同样是查询\n",
    "print (matcher1.group(0))"
   ]
  },
  {
   "cell_type": "code",
   "execution_count": 20,
   "metadata": {},
   "outputs": [
    {
     "name": "stdout",
     "output_type": "stream",
     "text": [
      "每个中文都提取为数组的一个个元素 ['我就是中文和', '混杂的数字']\n",
      "分段取出中文 ['我', '就', '是', '中', '文', '和', '混', '杂', '的', '数', '字']\n",
      "每个中文都提取为数组的一个个元素 <_sre.SRE_Match object; span=(0, 1), match='我'>\n"
     ]
    }
   ],
   "source": [
    "# 使用正则表达式进行中文字母数字等的提取\n",
    "\n",
    "import re\n",
    "\n",
    "string = '我就是中文和English混杂的数字'\n",
    "\n",
    "print('每个中文都提取为数组的一个个元素', re.findall('[\\u4e00-\\u9fa5]+', string))\n",
    "print('分段取出中文', re.findall('[\\u4e00-\\u9fa5]', string))\n",
    "print('搜索符合中文的内容，找到就停止', re.search('[\\u4e00-\\u9fa5]', string))"
   ]
  },
  {
   "cell_type": "code",
   "execution_count": 39,
   "metadata": {},
   "outputs": [
    {
     "name": "stdout",
     "output_type": "stream",
     "text": [
      "每个中文都提取为数组的一个个元素 ['我就是中文和', '混杂的数字']\n",
      "fetch english  ['English']\n",
      "fetch number ['123']\n",
      "fetch mass [',.,.,']\n"
     ]
    }
   ],
   "source": [
    "# 使用正则表达式进行中文字母数字等的提取\n",
    "\n",
    "import re\n",
    "\n",
    "string = '我就是中文和English混杂的数字123,.,.,'\n",
    "c = re.compile('[\\u4e00-\\u9fa5]+') # 提前编译规则提取中文\n",
    "e = re.compile('[a-zA-Z]+') # fetch english \n",
    "n = re.compile('[0-9]+')  # fetch number\n",
    "mass = re.compile('[^\\u4e00-\\u9fa5a-zA-Z0-9]+') # 提取非中文英文数字等\n",
    "print('每个中文都提取为数组的一个个元素', re.findall(c, string))\n",
    "print('fetch english ', re.findall(e, string))\n",
    "print('fetch number', re.findall(n, string))\n",
    "print('fetch mass', re.findall(mass, string))"
   ]
  }
 ],
 "metadata": {
  "kernelspec": {
   "display_name": "Python 3",
   "language": "python",
   "name": "python3"
  },
  "language_info": {
   "codemirror_mode": {
    "name": "ipython",
    "version": 3
   },
   "file_extension": ".py",
   "mimetype": "text/x-python",
   "name": "python",
   "nbconvert_exporter": "python",
   "pygments_lexer": "ipython3",
   "version": "3.6.5"
  }
 },
 "nbformat": 4,
 "nbformat_minor": 2
}
