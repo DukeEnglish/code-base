{
 "cells": [
  {
   "cell_type": "markdown",
   "metadata": {},
   "source": [
    "我们使用dataframe中的数据进行数据分析，选择不同的column的数据进行排序，最后通过散点图进行数据分布的观察，发现潜在的特征对于数据分布并没有影响。"
   ]
  },
  {
   "cell_type": "code",
   "execution_count": 2,
   "metadata": {},
   "outputs": [],
   "source": [
    "import pandas as pd\n",
    "import matplotlib.pyplot as plt  \n",
    "  \n",
    "%matplotlib inline\n",
    "\n",
    "# plt.hist(list(map(lambda x:x[1] ,word_seq_beijing) ),range=(0,10), bins=20,cumulative=True)\n",
    "# plt.show() # 这个统计的数据表明在词频在0-10 范围内，分20个桶，一共出现了3w次左右\n"
   ]
  },
  {
   "cell_type": "code",
   "execution_count": 1,
   "metadata": {},
   "outputs": [
    {
     "ename": "NameError",
     "evalue": "name 'plt' is not defined",
     "output_type": "error",
     "traceback": [
      "\u001b[0;31m---------------------------------------------------------------------------\u001b[0m",
      "\u001b[0;31mNameError\u001b[0m                                 Traceback (most recent call last)",
      "\u001b[0;32m<ipython-input-1-bf0176c47c2d>\u001b[0m in \u001b[0;36m<module>\u001b[0;34m()\u001b[0m\n\u001b[0;32m----> 1\u001b[0;31m \u001b[0mhelp\u001b[0m\u001b[0;34m(\u001b[0m\u001b[0mplt\u001b[0m\u001b[0;34m)\u001b[0m\u001b[0;34m\u001b[0m\u001b[0m\n\u001b[0m",
      "\u001b[0;31mNameError\u001b[0m: name 'plt' is not defined"
     ]
    }
   ],
   "source": [
    "help(plt)"
   ]
  },
  {
   "cell_type": "code",
   "execution_count": 3,
   "metadata": {},
   "outputs": [],
   "source": [
    "data_df = pd.read_excel(\"test.xlsx\")"
   ]
  },
  {
   "cell_type": "code",
   "execution_count": 4,
   "metadata": {
    "collapsed": true
   },
   "outputs": [
    {
     "data": {
      "text/html": [
       "<div>\n",
       "<style scoped>\n",
       "    .dataframe tbody tr th:only-of-type {\n",
       "        vertical-align: middle;\n",
       "    }\n",
       "\n",
       "    .dataframe tbody tr th {\n",
       "        vertical-align: top;\n",
       "    }\n",
       "\n",
       "    .dataframe thead th {\n",
       "        text-align: right;\n",
       "    }\n",
       "</style>\n",
       "<table border=\"1\" class=\"dataframe\">\n",
       "  <thead>\n",
       "    <tr style=\"text-align: right;\">\n",
       "      <th></th>\n",
       "      <th>b1.id</th>\n",
       "      <th>b1.point_name</th>\n",
       "      <th>b1.address</th>\n",
       "      <th>b1.phone</th>\n",
       "      <th>b1.city_id</th>\n",
       "      <th>b1.creator_id</th>\n",
       "      <th>create_time</th>\n",
       "      <th>modify_time</th>\n",
       "      <th>b1.source</th>\n",
       "      <th>a3.employee_id</th>\n",
       "      <th>a3.employee_name</th>\n",
       "      <th>a4.s</th>\n",
       "      <th>营业状态</th>\n",
       "      <th>备注</th>\n",
       "    </tr>\n",
       "  </thead>\n",
       "  <tbody>\n",
       "    <tr>\n",
       "      <th>0</th>\n",
       "      <td>107602307</td>\n",
       "      <td>老三炒鸡店</td>\n",
       "      <td>247省道东50米</td>\n",
       "      <td>0379-68570333</td>\n",
       "      <td>0</td>\n",
       "      <td>2006951</td>\n",
       "      <td>2016-08-28 01:16:01</td>\n",
       "      <td>2018-03-09 19:31:24</td>\n",
       "      <td>290</td>\n",
       "      <td>2006951.0</td>\n",
       "      <td>魏良炜</td>\n",
       "      <td>NaN</td>\n",
       "      <td>不确定</td>\n",
       "      <td>电话无人接听</td>\n",
       "    </tr>\n",
       "    <tr>\n",
       "      <th>1</th>\n",
       "      <td>99081266</td>\n",
       "      <td>三湘大厦餐厅</td>\n",
       "      <td>宝源路8号</td>\n",
       "      <td>0750-2312999</td>\n",
       "      <td>277</td>\n",
       "      <td>0</td>\n",
       "      <td>2016-02-04 17:52:46</td>\n",
       "      <td>2016-03-12 17:19:56</td>\n",
       "      <td>290</td>\n",
       "      <td>NaN</td>\n",
       "      <td>NaN</td>\n",
       "      <td>NaN</td>\n",
       "      <td>营业中</td>\n",
       "      <td>NaN</td>\n",
       "    </tr>\n",
       "    <tr>\n",
       "      <th>2</th>\n",
       "      <td>99107559</td>\n",
       "      <td>黄健军</td>\n",
       "      <td>北二路127-131号</td>\n",
       "      <td>18172005060</td>\n",
       "      <td>0</td>\n",
       "      <td>1019769231</td>\n",
       "      <td>2016-06-15 11:01:34</td>\n",
       "      <td>2016-06-15 11:01:34</td>\n",
       "      <td>290</td>\n",
       "      <td>NaN</td>\n",
       "      <td>NaN</td>\n",
       "      <td>NaN</td>\n",
       "      <td>不确定</td>\n",
       "      <td>电话错误</td>\n",
       "    </tr>\n",
       "    <tr>\n",
       "      <th>3</th>\n",
       "      <td>84972999</td>\n",
       "      <td>星星套装门</td>\n",
       "      <td>青年路57附近</td>\n",
       "      <td>15926679419</td>\n",
       "      <td>0</td>\n",
       "      <td>2006951</td>\n",
       "      <td>2016-03-30 11:55:35</td>\n",
       "      <td>2017-03-28 16:34:29</td>\n",
       "      <td>290</td>\n",
       "      <td>2006951.0</td>\n",
       "      <td>魏良炜</td>\n",
       "      <td>NaN</td>\n",
       "      <td>不确定</td>\n",
       "      <td>挂断</td>\n",
       "    </tr>\n",
       "    <tr>\n",
       "      <th>4</th>\n",
       "      <td>84982007</td>\n",
       "      <td>恋上鲜花33店（53店）</td>\n",
       "      <td>农林路3号院7号底商九州桥南邮政银行南30米（九州桥南邮政银行旁）</td>\n",
       "      <td>13601172494</td>\n",
       "      <td>1</td>\n",
       "      <td>0</td>\n",
       "      <td>2015-12-30 01:24:43</td>\n",
       "      <td>2016-01-14 22:12:21</td>\n",
       "      <td>290</td>\n",
       "      <td>NaN</td>\n",
       "      <td>NaN</td>\n",
       "      <td>NaN</td>\n",
       "      <td>营业中</td>\n",
       "      <td>NaN</td>\n",
       "    </tr>\n",
       "  </tbody>\n",
       "</table>\n",
       "</div>"
      ],
      "text/plain": [
       "       b1.id b1.point_name                         b1.address       b1.phone  \\\n",
       "0  107602307         老三炒鸡店                          247省道东50米  0379-68570333   \n",
       "1   99081266        三湘大厦餐厅                              宝源路8号   0750-2312999   \n",
       "2   99107559           黄健军                        北二路127-131号    18172005060   \n",
       "3   84972999         星星套装门                            青年路57附近    15926679419   \n",
       "4   84982007  恋上鲜花33店（53店）  农林路3号院7号底商九州桥南邮政银行南30米（九州桥南邮政银行旁）    13601172494   \n",
       "\n",
       "   b1.city_id  b1.creator_id          create_time          modify_time  \\\n",
       "0           0        2006951  2016-08-28 01:16:01  2018-03-09 19:31:24   \n",
       "1         277              0  2016-02-04 17:52:46  2016-03-12 17:19:56   \n",
       "2           0     1019769231  2016-06-15 11:01:34  2016-06-15 11:01:34   \n",
       "3           0        2006951  2016-03-30 11:55:35  2017-03-28 16:34:29   \n",
       "4           1              0  2015-12-30 01:24:43  2016-01-14 22:12:21   \n",
       "\n",
       "   b1.source  a3.employee_id a3.employee_name a4.s 营业状态      备注  \n",
       "0        290       2006951.0              魏良炜  NaN  不确定  电话无人接听  \n",
       "1        290             NaN              NaN  NaN  营业中     NaN  \n",
       "2        290             NaN              NaN  NaN  不确定    电话错误  \n",
       "3        290       2006951.0              魏良炜  NaN  不确定      挂断  \n",
       "4        290             NaN              NaN  NaN  营业中     NaN  "
      ]
     },
     "execution_count": 4,
     "metadata": {},
     "output_type": "execute_result"
    }
   ],
   "source": [
    "data_df.head()"
   ]
  },
  {
   "cell_type": "code",
   "execution_count": 8,
   "metadata": {
    "collapsed": true
   },
   "outputs": [
    {
     "name": "stderr",
     "output_type": "stream",
     "text": [
      "/Users/lijunyi/anaconda3/envs/tensorflow/lib/python3.6/site-packages/ipykernel_launcher.py:5: SettingWithCopyWarning: \n",
      "A value is trying to be set on a copy of a slice from a DataFrame\n",
      "\n",
      "See the caveats in the documentation: http://pandas.pydata.org/pandas-docs/stable/indexing.html#indexing-view-versus-copy\n",
      "  \"\"\"\n",
      "/Users/lijunyi/anaconda3/envs/tensorflow/lib/python3.6/site-packages/ipykernel_launcher.py:3: SettingWithCopyWarning: \n",
      "A value is trying to be set on a copy of a slice from a DataFrame\n",
      "\n",
      "See the caveats in the documentation: http://pandas.pydata.org/pandas-docs/stable/indexing.html#indexing-view-versus-copy\n",
      "  This is separate from the ipykernel package so we can avoid doing imports until\n",
      "/Users/lijunyi/anaconda3/envs/tensorflow/lib/python3.6/site-packages/ipykernel_launcher.py:7: SettingWithCopyWarning: \n",
      "A value is trying to be set on a copy of a slice from a DataFrame\n",
      "\n",
      "See the caveats in the documentation: http://pandas.pydata.org/pandas-docs/stable/indexing.html#indexing-view-versus-copy\n",
      "  import sys\n"
     ]
    }
   ],
   "source": [
    "for i in range(len(data_df['营业状态'])):\n",
    "    if data_df['营业状态'][i] == '营业中':\n",
    "        data_df['营业状态'][i] = 0\n",
    "    elif data_df['营业状态'][i] == '不确定':\n",
    "        data_df['营业状态'][i] = 2\n",
    "    else:\n",
    "        data_df['营业状态'][i] = 1"
   ]
  },
  {
   "cell_type": "code",
   "execution_count": 11,
   "metadata": {},
   "outputs": [],
   "source": [
    "data_sorted_modify_time = data_df.sort_values(['modify_time'], ascending = False)\n",
    "data_sorted_create_time = data_df.sort_values(['create_time'], ascending = False)\n",
    "data_sorted_creator_id = data_df.sort_values(['b1.creator_id'], ascending = False)"
   ]
  },
  {
   "cell_type": "code",
   "execution_count": 21,
   "metadata": {},
   "outputs": [
    {
     "data": {
      "text/plain": [
       "602"
      ]
     },
     "execution_count": 21,
     "metadata": {},
     "output_type": "execute_result"
    }
   ],
   "source": [
    "len(data_sorted_modify_time['营业状态'])"
   ]
  },
  {
   "cell_type": "code",
   "execution_count": 26,
   "metadata": {},
   "outputs": [],
   "source": [
    "import numpy as np\n",
    "index = np.arange(602)"
   ]
  },
  {
   "cell_type": "code",
   "execution_count": 27,
   "metadata": {},
   "outputs": [
    {
     "data": {
      "image/png": "[encoded data removed]",
      "text/plain": [
       "<Figure size 432x288 with 1 Axes>"
      ]
     },
     "metadata": {},
     "output_type": "display_data"
    }
   ],
   "source": [
    "plt.scatter(index, data_sorted_modify_time['营业状态'])  \n",
    "# plt.hist(data_sorted_modify_time['营业状态'][:100])\n",
    "plt.show() # 这个统计的数据表明在词频在0-10 范围内，分20个桶，一共出现了3w次左右"
   ]
  },
  {
   "cell_type": "code",
   "execution_count": 28,
   "metadata": {},
   "outputs": [
    {
     "data": {
      "image/png": "[encoded data removed]",
      "text/plain": [
       "<Figure size 432x288 with 1 Axes>"
      ]
     },
     "metadata": {},
     "output_type": "display_data"
    }
   ],
   "source": [
    "plt.scatter(index, data_sorted_create_time['营业状态'])  \n",
    "# plt.hist(data_sorted_modify_time['营业状态'][:100])\n",
    "plt.show() # 这个统计的数据表明在词频在0-10 范围内，分20个桶，一共出现了3w次左右"
   ]
  },
  {
   "cell_type": "code",
   "execution_count": 29,
   "metadata": {},
   "outputs": [
    {
     "data": {
      "image/png": "[encoded data removed]",
      "text/plain": [
       "<Figure size 432x288 with 1 Axes>"
      ]
     },
     "metadata": {},
     "output_type": "display_data"
    }
   ],
   "source": [
    "plt.scatter(index, data_sorted_creator_id['营业状态'])  \n",
    "# plt.hist(data_sorted_modify_time['营业状态'][:100])\n",
    "plt.show() # 这个统计的数据表明在词频在0-10 范围内，分20个桶，一共出现了3w次左右"
   ]
  },
  {
   "cell_type": "code",
   "execution_count": null,
   "metadata": {},
   "outputs": [],
   "source": []
  }
 ],
 "metadata": {
  "kernelspec": {
   "display_name": "Python 3",
   "language": "python",
   "name": "python3"
  },
  "language_info": {
   "codemirror_mode": {
    "name": "ipython",
    "version": 3
   },
   "file_extension": ".py",
   "mimetype": "text/x-python",
   "name": "python",
   "nbconvert_exporter": "python",
   "pygments_lexer": "ipython3",
   "version": "3.6.5"
  }
 },
 "nbformat": 4,
 "nbformat_minor": 2
}
